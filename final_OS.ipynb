{
  "nbformat": 4,
  "nbformat_minor": 0,
  "metadata": {
    "colab": {
      "provenance": []
    },
    "kernelspec": {
      "name": "python3",
      "display_name": "Python 3"
    },
    "language_info": {
      "name": "python"
    }
  },
  "cells": [
    {
      "cell_type": "code",
      "execution_count": null,
      "metadata": {
        "colab": {
          "base_uri": "https://localhost:8080/"
        },
        "id": "DIhpfIbhnEy1",
        "outputId": "c0aca6db-cb8b-4084-8009-2668ab20fe61"
      },
      "outputs": [
        {
          "output_type": "stream",
          "name": "stdout",
          "text": [
            "\u001b[?25l   \u001b[90m━━━━━━━━━━━━━━━━━━━━━━━━━━━━━━━━━━━━━━━━\u001b[0m \u001b[32m0.0/268.9 kB\u001b[0m \u001b[31m?\u001b[0m eta \u001b[36m-:--:--\u001b[0m\r\u001b[2K   \u001b[91m━━━━━━━━━━━━━━━━━━━━━━━━━━━━━━━━━━━━━━━\u001b[0m\u001b[91m╸\u001b[0m \u001b[32m266.2/268.9 kB\u001b[0m \u001b[31m9.2 MB/s\u001b[0m eta \u001b[36m0:00:01\u001b[0m\r\u001b[2K   \u001b[90m━━━━━━━━━━━━━━━━━━━━━━━━━━━━━━━━━━━━━━━━\u001b[0m \u001b[32m268.9/268.9 kB\u001b[0m \u001b[31m5.8 MB/s\u001b[0m eta \u001b[36m0:00:00\u001b[0m\n",
            "\u001b[?25h"
          ]
        }
      ],
      "source": [
        "!pip install spotipy tqdm psutil --quiet"
      ]
    },
    {
      "cell_type": "code",
      "source": [
        "import spotipy\n",
        "from spotipy.oauth2 import SpotifyClientCredentials\n",
        "from tqdm import tqdm\n",
        "import psutil, os, threading, time, gc, sys, random"
      ],
      "metadata": {
        "id": "g9EBPwoWvEFS"
      },
      "execution_count": null,
      "outputs": []
    },
    {
      "cell_type": "code",
      "source": [
        "# Spotify setup\n",
        "client_id = '72474caf37cd4fd7b860f677916a9ca5'\n",
        "client_secret = '0f6196902ccf47b5bc2a41c7fb56854e'\n",
        "\n",
        "auth_manager = SpotifyClientCredentials(client_id=client_id, client_secret=client_secret)\n",
        "sp = spotipy.Spotify(auth_manager=auth_manager)"
      ],
      "metadata": {
        "id": "r3i1L4astAvk"
      },
      "execution_count": null,
      "outputs": []
    },
    {
      "cell_type": "code",
      "source": [
        "# Optimization function\n",
        "def optimize_process():\n",
        "    try:\n",
        "        # Lower the priority (increase responsiveness for Colab)\n",
        "        p = psutil.Process(os.getpid())\n",
        "        p.nice(psutil.IDLE_PRIORITY_CLASS if os.name == 'nt' else 19)\n",
        "        print(\"Process priority set to low.\")\n",
        "    except Exception as e:\n",
        "        print(\"Could not set process priority:\", e)"
      ],
      "metadata": {
        "id": "5wHJ52Sse2Vi"
      },
      "execution_count": null,
      "outputs": []
    },
    {
      "cell_type": "code",
      "source": [
        "# Search songs from a keyword\n",
        "def search_spotify_tracks(query: str, limit: int = 10):\n",
        "    results = sp.search(q=query, type='track', limit=limit)\n",
        "    tracks = []\n",
        "    for item in tqdm(results['tracks']['items'], desc=\"Fetching Tracks\"):\n",
        "        track = {\n",
        "            'name': item['name'],\n",
        "            'artist': item['artists'][0]['name'],\n",
        "            'url': item['external_urls']['spotify']\n",
        "        }\n",
        "        tracks.append(track)\n",
        "    return tracks"
      ],
      "metadata": {
        "id": "bNFwRP7ktMcJ"
      },
      "execution_count": null,
      "outputs": []
    },
    {
      "cell_type": "code",
      "source": [
        "# Monitor system performance\n",
        "def monitor_system():\n",
        "    for _ in range(5):\n",
        "        cpu = psutil.cpu_percent()\n",
        "        mem = psutil.virtual_memory().percent\n",
        "        print(f\"CPU: {cpu}% | Memory: {mem}%\")\n",
        "        time.sleep(1)"
      ],
      "metadata": {
        "id": "fMIGiw8qe95d"
      },
      "execution_count": null,
      "outputs": []
    },
    {
      "cell_type": "code",
      "source": [
        "# Main function\n",
        "def run_spotify_search():\n",
        "    # Set process to low priority\n",
        "    optimize_process()\n",
        "\n",
        "    # Start system monitor\n",
        "    threading.Thread(target=monitor_system, daemon=True).start()\n",
        "\n",
        "    # Input from user\n",
        "    query = input(\"What do you want to search for? (e.g. chill, genre:lofi, artist:Taylor Swift): \").strip()\n",
        "    if not query:\n",
        "        print(\"No input provided.\")\n",
        "        return\n",
        "\n",
        "    # Start timer\n",
        "    start = time.time()\n",
        "\n",
        "    tracks = search_spotify_tracks(query)\n",
        "\n",
        "    # Memory cleanup after the search\n",
        "    gc.collect()\n",
        "\n",
        "    # End timer\n",
        "    end = time.time()\n",
        "\n",
        "    # Result\n",
        "    print(f\"\\nFound {len(tracks)} tracks:\\n\")\n",
        "    for i, t in enumerate(tracks, 1):\n",
        "        print(f\"{i}. {t['name']} by {t['artist']}\")\n",
        "        print(f\"   {t['url']}\\n\")\n",
        "\n",
        "    # Show runtime\n",
        "    print(f\"\\nRuntime: {end - start:.2f} seconds\")\n",
        "\n",
        "    gc.collect()\n",
        "    print(\"Memory cleanup completed.\")\n",
        "\n",
        "run_spotify_search()"
      ],
      "metadata": {
        "colab": {
          "base_uri": "https://localhost:8080/"
        },
        "id": "gG3mrNsFfEKL",
        "outputId": "8f7d1813-fbd0-41ed-b86b-222ad8993520"
      },
      "execution_count": null,
      "outputs": [
        {
          "name": "stdout",
          "output_type": "stream",
          "text": [
            "Process priority set to low.\n",
            "CPU: 1.4% | Memory: 1.2%\n",
            "CPU: 0.2% | Memory: 1.2%\n",
            "CPU: 0.2% | Memory: 1.2%\n",
            "CPU: 0.8% | Memory: 1.2%\n",
            "CPU: 1.3% | Memory: 1.2%\n",
            "What do you want to search for? (e.g. chill, genre:lofi, artist:Taylor Swift): chill\n"
          ]
        },
        {
          "output_type": "stream",
          "name": "stderr",
          "text": [
            "Fetching Tracks: 100%|██████████| 7/7 [00:00<00:00, 101592.14it/s]"
          ]
        },
        {
          "output_type": "stream",
          "name": "stdout",
          "text": [
            "\n",
            "Found 7 tracks:\n",
            "\n",
            "1. Chill Bill (feat. J. Davi$ & Spooks) by Rob $tone\n",
            "   https://open.spotify.com/track/5uDASfU19gDxSjW8cnCaBp\n",
            "\n",
            "2. Chill Baby by SZA\n",
            "   https://open.spotify.com/track/0qpdzfTxAkOREtvvGO5oew\n",
            "\n",
            "3. Chill Guy (with Kyle Richh) by 41\n",
            "   https://open.spotify.com/track/5koLyxl6fWprtuT1TKlZ35\n",
            "\n",
            "4. Chill Bae by Lil Uzi Vert\n",
            "   https://open.spotify.com/track/4ppKM7xnkSAwSyKqD4QTY4\n",
            "\n",
            "5. Chillin' Like a Villain by Sofia Carson\n",
            "   https://open.spotify.com/track/1rM0CnyUiiw6A9CHJRXjZA\n",
            "\n",
            "6. Chillin' It by Cole Swindell\n",
            "   https://open.spotify.com/track/0Utg7sirTPqrs6Cx0FbriQ\n",
            "\n",
            "7. Chill by LISA\n",
            "   https://open.spotify.com/track/1QIUF20HdqMA0CJvkBOHNb\n",
            "\n",
            "\n",
            "Runtime: 0.23 seconds\n",
            "Memory cleanup completed.\n"
          ]
        },
        {
          "output_type": "stream",
          "name": "stderr",
          "text": [
            "\n"
          ]
        }
      ]
    }
  ]
}